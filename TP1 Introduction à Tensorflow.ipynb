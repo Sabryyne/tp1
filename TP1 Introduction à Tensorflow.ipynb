{
 "cells": [
  {
   "cell_type": "markdown",
   "id": "beeb2820",
   "metadata": {},
   "source": [
    " # **TP1: Introduction à Tensorflow avec keras**"
   ]
  },
  {
   "cell_type": "markdown",
   "id": "80e99160",
   "metadata": {},
   "source": [
    "## 1- Utiliser tensorflow avec keras"
   ]
  },
  {
   "cell_type": "markdown",
   "id": "392c09e0",
   "metadata": {},
   "source": [
    "Le module keras permet de définir facilement des réseaux de neurones en les décrivant couche par couche.\n",
    "Pour l’instant nous définissons les poids à la main, en attendant de voir plus tard comment les calculer à la\n",
    "machine. \n",
    "\n",
    "Ceux qui ne veulent pas s’embêter avec les détails techniques peuvent seulement lire la sous-section 1.2 car\n",
    "nous proposerons ensuite un outil simple dans la partie 2"
   ]
  },
  {
   "cell_type": "markdown",
   "id": "e7386246",
   "metadata": {},
   "source": [
    "## 1.1. Module keras de tensorflow\n",
    "En plus d’importer le module numpy (abrégé par np), il faut importer le sous-module keras du module\n",
    "tensorflow et quelques outils spécifiques"
   ]
  },
  {
   "cell_type": "code",
   "execution_count": 1,
   "id": "3e207ea6",
   "metadata": {},
   "outputs": [],
   "source": [
    "import numpy as np\n",
    "import matplotlib.pyplot as plt \n",
    "from tensorflow import keras\n",
    "from tensorflow.keras.models import Sequential\n",
    "from tensorflow.keras.layers import Dense"
   ]
  },
  {
   "cell_type": "markdown",
   "id": "a2fefc8a",
   "metadata": {},
   "source": [
    "## 1.2. Couches de neurones\n",
    "On va définir l’architecture d’un réseau très simple, en le décrivant couche par couche"
   ]
  },
  {
   "cell_type": "code",
   "execution_count": 2,
   "id": "13498ada",
   "metadata": {},
   "outputs": [],
   "source": [
    "# Architecture du réseau\n",
    "modele = Sequential()\n",
    "# Couches de neurones\n",
    "modele.add(Dense(2, input_dim=1, activation='relu'))\n",
    "modele.add(Dense(1, activation='relu'))"
   ]
  },
  {
   "cell_type": "markdown",
   "id": "6c8c8819",
   "metadata": {},
   "source": [
    "Explications :\n",
    "\n",
    "• Notre réseau s’appelle modele, il est du type Sequential, c’est-à-dire qu’il va être décrit par une suite\n",
    "de couches les unes à la suite des autres.\n",
    "\n",
    "• Chaque couche est ajoutée à la précédente par modele.add(). L’ordre d’ajout est donc important.\n",
    "\n",
    "• Chaque couche est ajoutée par une commande :\n",
    "modele.add(Dense(nb_neurones, activation=ma_fonction))\n",
    "\n",
    "• Une couche de type Dense signifie que chaque neurone de la nouvelle couche est connecté à toutes les\n",
    "sorties des neurones de la couche précédente.\n",
    "\n",
    "• Pour chaque couche, il faut préciser le nombre de neurones qu’elle contient. S’il y a n neurones alors la\n",
    "couche renvoie n valeurs en sortie. On rappelle qu’un neurone renvoie la même valeur de sortie vers\n",
    "tous les neurones de la couche suivante.\n",
    "\n",
    "• Pour la première couche, il faut préciser le nombre de valeurs en entrée (par l’option input_dim =\n",
    "...). Ici on a une entrée d’une seule variable. Sur la figure ci-dessous un exemple d’une entrée de\n",
    "dimension 3.\n",
    "\n",
    "• Pour les autres couches, le nombre d’entrées est égal au nombre de sorties de la couche précédente. Il\n",
    "n’est donc pas nécessaire de le préciser.\n",
    "\n",
    "• Pour chaque couche, il faut également préciser une fonction d’activation (c’est la même pour tous les\n",
    "neurones de cette couche). Plusieurs fonctions d’activation sont prédéfinies :\n",
    "'relu' (ReLU), 'sigmoid'(σ), 'linear' (identité)PYTHON : TENSORFLOW AVEC KERAS - PARTIE 1 97\n",
    "Nous verrons plus tard comment définir notre propre fonction d’activation, comme par exemple la\n",
    "fonction marche de Heaviside.\n",
    "\n",
    "• Notre exemple ne possède qu’une entrée et comme il n’y a qu’un seul neurone sur la dernière couche alors\n",
    "il n’y a qu’une seule valeur en sortie. Ainsi notre réseau va définir une fonction F.\n",
    "\n",
    "• Mais attention, pour l’instant ce n’est qu’un modèle de réseau puisque nous n’avons pas fixé de poids.\n",
    "\n",
    "• Pour vérifier que tout va bien jusque là, on peut exécuter la commande\n",
    "modele.summary()\n",
    "qui affiche un résumé des couches et du nombre de poids à définir."
   ]
  },
  {
   "cell_type": "markdown",
   "id": "90cf1fd6",
   "metadata": {},
   "source": [
    "## 1.3 Les poids \n",
    "Lors de la définition d’un réseau et de la structure de ses couches, des poids aléatoires sont attribués à\n",
    "chaque neurone. La démarche habituelle est ensuite d’entraîner le réseau, automatiquement, afin qu’il\n",
    "trouve de « bons » poids. Pour l’instant, nous continuons de fixer les poids de chaque neurone à la main.\n",
    "La commande pour fixer les poids est set_weights().\n",
    "\n",
    "Voici les poids de la première couche, numérotée 0 :"
   ]
  },
  {
   "cell_type": "code",
   "execution_count": 3,
   "id": "88fd8dbf",
   "metadata": {},
   "outputs": [],
   "source": [
    "# Couche 0\n",
    "coeff = np.array([[1.,-0.5]])\n",
    "biais = np.array([-1,1])\n",
    "poids = [coeff,biais]\n",
    "modele.layers[0].set_weights(poids)"
   ]
  },
  {
   "cell_type": "markdown",
   "id": "bb194ead",
   "metadata": {},
   "source": [
    "Définissons les poids de la couche numéro 1"
   ]
  },
  {
   "cell_type": "code",
   "execution_count": 4,
   "id": "9ac7ab49",
   "metadata": {},
   "outputs": [],
   "source": [
    "# Couche 1\n",
    "coeff = np.array([[1.0],[1.0]])\n",
    "biais = np.array([0])\n",
    "poids = [coeff,biais]\n",
    "modele.layers[1].set_weights(poids)"
   ]
  },
  {
   "cell_type": "markdown",
   "id": "e3e4c1c9",
   "metadata": {},
   "source": [
    "Voici quelques précisions concernant la commande set_weights(). Son utilisation n’est pas très aisée.\n",
    "\n",
    "• Les poids sont définis pour tous les éléments d’une couche, par une commande set_weights(poids).\n",
    "\n",
    "• Les poids sont donnés sous la forme d’une liste : poids = [coeff,biais].\n",
    "\n",
    "• Les biais sont donnés sous la forme d’un vecteur de biais (un pour chaque neurone).\n",
    "\n",
    "• Les coefficients sont donnés sous la forme d’un tableau à deux dimensions. Il sont définis par entrée.\n",
    "\n",
    "Attention, la structure n’est pas naturelle (nous y reviendrons).\n",
    "Pour vérifier que les poids d’une couche sont corrects, on utilise la commande get_weights(), par exemple\n",
    "pour la première couche :  modele.layers[0].get_weights()\n",
    "\n",
    "\n",
    "Cette instruction renvoie les poids sous la forme d’une liste [coefficients,biais] du type :\n",
    "[ [[ 1. -0.5]], [-1. 1.] ]\n",
    "Astuce! Cette commande est aussi très pratique avant même de fixer les poids, pour savoir quelle est la\n",
    "forme que doivent prendre les poids afin d’utiliser set_weights().\n",
    "\n",
    "\n"
   ]
  },
  {
   "cell_type": "markdown",
   "id": "79cb8223",
   "metadata": {},
   "source": [
    "## 1.4 Évaluation\n",
    "Comment utiliser le réseau ? C’est très simple avec predict(). Notre réseau définit une fonction F(x).\n",
    "L’entrée correspond donc à un réel et la sortie également. Voici comment faire :"
   ]
  },
  {
   "cell_type": "code",
   "execution_count": 5,
   "id": "fb65a797",
   "metadata": {},
   "outputs": [],
   "source": [
    "entree = np.array([[3.0]])\n",
    "sortie = modele.predict(entree)"
   ]
  },
  {
   "cell_type": "markdown",
   "id": "41f5c0ed",
   "metadata": {},
   "source": [
    "Ici sortie vaut [[2.0]] et donc F(3) = 2. Ce que l’on peut vérifier à la main en calculant les sorties de\n",
    "chaque neurone."
   ]
  },
  {
   "cell_type": "markdown",
   "id": "7e3c6fcc",
   "metadata": {},
   "source": [
    "## 1.5 Visualisation\n",
    "Afin de tracer le graphe de la fonction F,  on peut calculer d’autres valeurs :"
   ]
  },
  {
   "cell_type": "code",
   "execution_count": 6,
   "id": "76122580",
   "metadata": {},
   "outputs": [
    {
     "data": {
      "image/png": "[encoded data removed]",
      "text/plain": [
       "<Figure size 432x288 with 1 Axes>"
      ]
     },
     "metadata": {
      "needs_background": "light"
     },
     "output_type": "display_data"
    }
   ],
   "source": [
    "liste_x = np.linspace(-2, 3, num=100)\n",
    "entree = np.array([[x] for x in liste_x])\n",
    "sortie = modele.predict(entree)\n",
    "liste_y = np.array([y[0] for y in sortie])\n",
    "plt.plot(liste_x,liste_y)\n",
    "plt.show()"
   ]
  },
  {
   "cell_type": "markdown",
   "id": "88b15a47",
   "metadata": {},
   "source": [
    "## 1.6. Autre exemple"
   ]
  },
  {
   "cell_type": "code",
   "execution_count": 7,
   "id": "1221c6b5",
   "metadata": {},
   "outputs": [],
   "source": [
    "modele = Sequential()\n",
    "# Couches de neurones\n",
    "modele.add(Dense(3, input_dim=2, activation='sigmoid'))\n",
    "modele.add(Dense(1, activation='sigmoid'))\n",
    "# Couche 0\n",
    "coeff = np.array([[1.0,3.0,-5.0],[2.0,-4.0,-6.0]])\n",
    "biais = np.array([-1.0,0.0,1.0])\n",
    "poids = [coeff,biais]\n",
    "modele.layers[0].set_weights(poids)\n",
    "# Couche 1\n",
    "coeff = np.array([[1.0],[1.0],[1.0]])\n",
    "biais = np.array([-3.0])\n",
    "poids = [coeff,biais]\n",
    "modele.layers[1].set_weights(poids)\n"
   ]
  },
  {
   "cell_type": "code",
   "execution_count": 8,
   "id": "83eb5227",
   "metadata": {},
   "outputs": [],
   "source": [
    "entree = np.array([[7,-5]])\n",
    "sortie = modele.predict(entree)"
   ]
  },
  {
   "cell_type": "code",
   "execution_count": 9,
   "id": "26ebc1f0",
   "metadata": {},
   "outputs": [
    {
     "data": {
      "text/plain": [
       "array([[0.12303182]], dtype=float32)"
      ]
     },
     "execution_count": 9,
     "metadata": {},
     "output_type": "execute_result"
    }
   ],
   "source": [
    "sortie"
   ]
  },
  {
   "cell_type": "code",
   "execution_count": 10,
   "id": "226e5ffc",
   "metadata": {},
   "outputs": [
    {
     "data": {
      "image/png": "[encoded data removed]",
      "text/plain": [
       "<Figure size 432x288 with 1 Axes>"
      ]
     },
     "metadata": {
      "needs_background": "light"
     },
     "output_type": "display_data"
    }
   ],
   "source": [
    "from mpl_toolkits.mplot3d import Axes3D\n",
    "VX = np.linspace(-5, 5, 20)\n",
    "VY = np.linspace(-5, 5, 20)\n",
    "X,Y = np.meshgrid(VX, VY)\n",
    "entree = np.c_[X.ravel(), Y.ravel()]\n",
    "sortie = modele.predict(entree)\n",
    "Z = sortie.reshape(X.shape)\n",
    "fig = plt.figure()\n",
    "ax = plt.axes(projection='3d')\n",
    "ax.plot_surface(X, Y, Z)\n",
    "plt.show()"
   ]
  }
 ],
 "metadata": {
  "kernelspec": {
   "display_name": "Python 3 (ipykernel)",
   "language": "python",
   "name": "python3"
  },
  "language_info": {
   "codemirror_mode": {
    "name": "ipython",
    "version": 3
   },
   "file_extension": ".py",
   "mimetype": "text/x-python",
   "name": "python",
   "nbconvert_exporter": "python",
   "pygments_lexer": "ipython3",
   "version": "3.9.7"
  }
 },
 "nbformat": 4,
 "nbformat_minor": 5
}
